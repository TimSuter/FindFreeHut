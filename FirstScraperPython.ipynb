{
 "cells": [
  {
   "cell_type": "code",
   "execution_count": null,
   "metadata": {},
   "outputs": [],
   "source": [
    "\n"
   ]
  },
  {
   "cell_type": "code",
   "execution_count": 134,
   "metadata": {},
   "outputs": [],
   "source": [
    "import requests\n",
    "from bs4 import BeautifulSoup as bs\n",
    "import pandas as pd\n",
    "import time\n",
    "from random import randrange"
   ]
  },
  {
   "cell_type": "code",
   "execution_count": 2,
   "metadata": {},
   "outputs": [],
   "source": [
    "headers = {\n",
    "    'Accept': 'application/json, text/javascript, */*; q=0.01',\n",
    "    'User-Agent': 'Mozilla/5.0 (X11; Linux x86_64) AppleWebKit/537.36 (KHTML, like Gecko) Chrome/109.0.0.0 Safari/537.36'\n",
    "}\n",
    "\n",
    "s = requests.Session()\n",
    "s.headers.update(headers)\n",
    "\n",
    "\n",
    "#s.get('https://www.alpsonline.org/reservation/calendar?hut_id=27')\n",
    "#r = s.get('https://www.alpsonline.org/reservation/selectDate?date=10.07.2024')\n",
    "#json_list = []\n",
    "#for i, value in r.json().items():\n",
    "#    json_list.append(value[0])\n",
    "#df = pd.DataFrame(json_list)"
   ]
  },
  {
   "cell_type": "code",
   "execution_count": 8,
   "metadata": {},
   "outputs": [
    {
     "name": "stdout",
     "output_type": "stream",
     "text": [
      "    hutid reservationDate  freeRoom  occupation     Service\n",
      "0      27      14.07.2024        36   32.075472        ROOM\n",
      "1      27      15.07.2024        28   47.169811        ROOM\n",
      "2      27      16.07.2024        24   54.716981        ROOM\n",
      "3      27      17.07.2024        28   47.169811        ROOM\n",
      "4      27      18.07.2024        40   24.528302        ROOM\n",
      "5      27      19.07.2024         7   86.792453        ROOM\n",
      "6      27      20.07.2024         1   98.113208        ROOM\n",
      "7      27      21.07.2024        36   32.075472        ROOM\n",
      "8      27      22.07.2024        27   49.056604        ROOM\n",
      "9      27      23.07.2024        21   60.377358        ROOM\n",
      "10     27      24.07.2024        45   15.094340        ROOM\n",
      "11     27      25.07.2024        46   13.207547        ROOM\n",
      "12     27      26.07.2024        35   33.962264        ROOM\n",
      "13     27      27.07.2024         0  100.000000        ROOM\n",
      "0     515      14.07.2024         6   40.000000  UNSERVICED\n",
      "1     515      15.07.2024        10    0.000000  UNSERVICED\n",
      "2     515      16.07.2024        10    0.000000  UNSERVICED\n",
      "3     515      17.07.2024        10    0.000000  UNSERVICED\n",
      "4     515      18.07.2024         5   50.000000  UNSERVICED\n",
      "5     515      19.07.2024        10    0.000000  UNSERVICED\n",
      "6     515      20.07.2024        10    0.000000  UNSERVICED\n",
      "7     515      21.07.2024        10    0.000000  UNSERVICED\n",
      "8     515      22.07.2024         8   20.000000  UNSERVICED\n",
      "9     515      23.07.2024        10    0.000000  UNSERVICED\n",
      "10    515      24.07.2024        10    0.000000  UNSERVICED\n",
      "11    515      25.07.2024         8   20.000000  UNSERVICED\n",
      "12    515      26.07.2024         7   30.000000  UNSERVICED\n",
      "13    515      27.07.2024         1   90.000000  UNSERVICED\n"
     ]
    }
   ],
   "source": [
    "hutid = [27, 515]\n",
    "date = '10.07.2024'\n",
    "\n",
    "#loop over all huts, create a dataframe for each hut\n",
    "#initialize dataframes\n",
    "df_list = []\n",
    "\n",
    "for hut in hutid:\n",
    "    r = s.get(f'https://www.alpsonline.org/reservation/calendar?hut_id={hut}')\n",
    "    r = s.get(f'https://www.alpsonline.org/reservation/selectDate?date={date}')\n",
    "    json_list = []\n",
    "    for i, value in r.json().items():\n",
    "        json_list.append(value[0])\n",
    "    df = pd.DataFrame(json_list)\n",
    "    df['hutid'] = hut\n",
    "    df_list.append(df)\n",
    "\n",
    "\n",
    "#reduce dataframes to relevant columns, add hutid and calculate occupation\n",
    "df_red_list = []\n",
    "for df in df_list:\n",
    "    df_red = df[['hutid', 'reservationDate', 'freeRoom']].copy()\n",
    "    df_red['occupation'] = (100 - df_red['freeRoom'].copy() / df['totalRoom'].copy() * 100)\n",
    "    df_red['Service'] = df['bedCategoryType'].copy()\n",
    "    df_red_list.append(df_red)\n",
    "\n",
    "#concatenate dataframes\n",
    "df_con = pd.concat(df_red_list)\n",
    "print(df_con)\n"
   ]
  },
  {
   "cell_type": "code",
   "execution_count": null,
   "metadata": {},
   "outputs": [],
   "source": [
    "#Read csv file with hut information\n",
    "#contains: hutid, hutname, altitude\n",
    "df_huts = pd.read_excel('hutInfo.xlsx')"
   ]
  },
  {
   "cell_type": "code",
   "execution_count": 12,
   "metadata": {},
   "outputs": [
    {
     "name": "stdout",
     "output_type": "stream",
     "text": [
      "    hutBedCategoryId  bedCategoryId bedCategoryType  bookingEnabled  closed  \\\n",
      "0               1350             43      UNSERVICED            True   False   \n",
      "1               1350             43      UNSERVICED            True   False   \n",
      "2               1350             43      UNSERVICED            True   False   \n",
      "3               1350             43      UNSERVICED            True   False   \n",
      "4               1350             43      UNSERVICED            True   False   \n",
      "5               1350             43      UNSERVICED            True   False   \n",
      "6               1350             43      UNSERVICED            True   False   \n",
      "7               1350             43      UNSERVICED            True   False   \n",
      "8               1350             43      UNSERVICED            True   False   \n",
      "9               1350             43      UNSERVICED            True   False   \n",
      "10              1350             43      UNSERVICED            True   False   \n",
      "11              1350             43      UNSERVICED            True   False   \n",
      "12              1350             43      UNSERVICED            True   False   \n",
      "13              1350             43      UNSERVICED            True   False   \n",
      "\n",
      "   events  freeRoom  futureHutOccupancyShown reservationDate  totalRoom  \\\n",
      "0      []         6                    False      14.07.2024         10   \n",
      "1      []        10                    False      15.07.2024         10   \n",
      "2      []        10                    False      16.07.2024         10   \n",
      "3      []        10                    False      17.07.2024         10   \n",
      "4      []         5                    False      18.07.2024         10   \n",
      "5      []        10                    False      19.07.2024         10   \n",
      "6      []        10                    False      20.07.2024         10   \n",
      "7      []        10                    False      21.07.2024         10   \n",
      "8      []         8                    False      22.07.2024         10   \n",
      "9      []        10                    False      23.07.2024         10   \n",
      "10     []        10                    False      24.07.2024         10   \n",
      "11     []         8                    False      25.07.2024         10   \n",
      "12     []         7                    False      26.07.2024         10   \n",
      "13     []         1                    False      27.07.2024         10   \n",
      "\n",
      "    contingentId contingentText       contingentTitle  unserviced  \\\n",
      "0          17873    Massenlager  Unattended operation        True   \n",
      "1          17873    Massenlager  Unattended operation        True   \n",
      "2          17873    Massenlager  Unattended operation        True   \n",
      "3          17873    Massenlager  Unattended operation        True   \n",
      "4          17873    Massenlager  Unattended operation        True   \n",
      "5          17873    Massenlager  Unattended operation        True   \n",
      "6          17873    Massenlager  Unattended operation        True   \n",
      "7          17873    Massenlager  Unattended operation        True   \n",
      "8          17873    Massenlager  Unattended operation        True   \n",
      "9          17873    Massenlager  Unattended operation        True   \n",
      "10         17873    Massenlager  Unattended operation        True   \n",
      "11         17873    Massenlager  Unattended operation        True   \n",
      "12         17873    Massenlager  Unattended operation        True   \n",
      "13         17873    Massenlager  Unattended operation        True   \n",
      "\n",
      "    unservicedWaitingList hutDefaultLanguage  reservedRoomsRatio  \\\n",
      "0                   False              de_CH                 0.4   \n",
      "1                   False              de_CH                 0.0   \n",
      "2                   False              de_CH                 0.0   \n",
      "3                   False              de_CH                 0.0   \n",
      "4                   False              de_CH                 0.5   \n",
      "5                   False              de_CH                 0.0   \n",
      "6                   False              de_CH                 0.0   \n",
      "7                   False              de_CH                 0.0   \n",
      "8                   False              de_CH                 0.2   \n",
      "9                   False              de_CH                 0.0   \n",
      "10                  False              de_CH                 0.0   \n",
      "11                  False              de_CH                 0.2   \n",
      "12                  False              de_CH                 0.3   \n",
      "13                  False              de_CH                 0.9   \n",
      "\n",
      "   eventsAsString  hutid  \n",
      "0                    515  \n",
      "1                    515  \n",
      "2                    515  \n",
      "3                    515  \n",
      "4                    515  \n",
      "5                    515  \n",
      "6                    515  \n",
      "7                    515  \n",
      "8                    515  \n",
      "9                    515  \n",
      "10                   515  \n",
      "11                   515  \n",
      "12                   515  \n",
      "13                   515  \n"
     ]
    }
   ],
   "source": [
    "#look up reservations\n",
    "\n",
    "hutid = 680\n",
    "date = '10.07.2024'\n",
    "\n",
    "r = s.get(f'https://www.alpsonline.org/reservation/calendar?hut_id={hut}')\n",
    "r = s.get(f'https://www.alpsonline.org/reservation/selectDate?date={date}')\n",
    "json_list = []\n",
    "for i, value in r.json().items():\n",
    "    json_list.append(value[0])\n",
    "df = pd.DataFrame(json_list)\n",
    "df['hutid'] = hut\n",
    "df_list.append(df)\n",
    "\n",
    "print(df)"
   ]
  },
  {
   "cell_type": "markdown",
   "metadata": {},
   "source": []
  },
  {
   "cell_type": "code",
   "execution_count": 187,
   "metadata": {},
   "outputs": [],
   "source": [
    "def findHutIDs(SACOnly = False):\n",
    "    #goes through all hut ids and checks if the hut exists\n",
    "    #if the hut exists, it saves the hut id, altitude and coordinates in a dataframe\n",
    "    #if the hut does not exist, it is skipped\n",
    "    #returns a dataframe with hut information\n",
    "    hutInfo = pd.DataFrame(columns = ['Hut ID', 'Hut Name', 'Altitude', 'Coordinates', 'Reservation Link'])\n",
    "\n",
    "    date = '11.07.2027' #pick a date well into the future\n",
    "    hutCounter = 0\n",
    "    hutidLimit = 5  #up to which hut we should check\n",
    "\n",
    "    for hutid in range(1,hutidLimit):\n",
    "        #wait a bit to not overload the server\n",
    "        time.sleep(0.5+ 0.1*randrange(0,10))\n",
    "        page = s.get(f'https://www.alpsonline.org/reservation/calendar?hut_id={hutid}&selectDate={date}&lang=en')\n",
    "        soup = bs(page.content, 'html.parser')\n",
    "        \n",
    "        #Check if the hut exists\n",
    "        erm = soup.find_all('div', {'class': 'errorsMessage'})\n",
    "        #check if a hut exists for the given hutid\n",
    "        noHutError = f'<div class=\"errorsMessage\">The requested hut [{hutid}] cannot be found. Please check your parameters.</div>'\n",
    "        hutNotActivatedError = f'<div class=\"errorsMessage\">This hut profile is not activated. Bookings cannot be entered at the moment. Please contact the administrator.</div>'\n",
    "        if str(erm[3]) == noHutError:\n",
    "            print(f'Hut with id {hutid} not found')\n",
    "        elif str(erm[3]) == hutNotActivatedError:\n",
    "            print(f'Hut with id {hutid} not activated')\n",
    "        else:\n",
    "            print(f'Hut with id {hutid} found')\n",
    "            hutInfBS = soup.body.find('div', attrs={'class': 'info'}).find_all('span')\n",
    "            hutname = soup.body.find('div', {'class': 'info'}).find_all('h4')[0].text\n",
    "            if SACOnly:\n",
    "                if 'SAC' in hutname:\n",
    "                    hutInfo.loc[hutCounter] = [hutid, hutname, hutInfBS[3].text[24:-2], hutInfBS[4].text[13:], f'https://www.alpsonline.org/reservation/calendar?hut_id={hutid}&selectDate={date}&lang=en']\n",
    "                    hutCounter += 1\n",
    "            else:\n",
    "                hutInfo.loc[hutCounter] = [hutid, hutname, hutInfBS[3].text[24:-2], hutInfBS[4].text[13:], f'https://www.alpsonline.org/reservation/calendar?hut_id={hutid}&selectDate={date}&lang=en']\n",
    "                hutCounter += 1\n",
    "\n",
    "\n",
    "    return hutInfo"
   ]
  },
  {
   "cell_type": "code",
   "execution_count": 188,
   "metadata": {},
   "outputs": [
    {
     "name": "stdout",
     "output_type": "stream",
     "text": [
      "Hut with id 1 found\n",
      "Hut with id 2 found\n",
      "Hut with id 3 found\n",
      "Hut with id 4 found\n",
      "   Hut ID                                      Hut Name Altitude  \\\n",
      "0       1  Blüemlisalphütte SAC, SAC Sektion Blümlisalp     2840   \n",
      "1       2             Glecksteinhütte SAC, SAC Burgdorf     2317   \n",
      "2       3      Capanna da l'Albigna CAS, SAC Hoher Rohn     2336   \n",
      "3       4                    Kesch-Hütte SAC, SAC Davos     2625   \n",
      "\n",
      "         Coordinates                                   Reservation Link  \n",
      "0  625.565 / 151.040  https://www.alpsonline.org/reservation/calenda...  \n",
      "1  650.400 / 163.979  https://www.alpsonline.org/reservation/calenda...  \n",
      "2  770.675 / 133.375  https://www.alpsonline.org/reservation/calenda...  \n",
      "3  786.561 / 168.870  https://www.alpsonline.org/reservation/calenda...  \n"
     ]
    }
   ],
   "source": [
    "\n"
   ]
  },
  {
   "cell_type": "code",
   "execution_count": 195,
   "metadata": {},
   "outputs": [
    {
     "data": {
      "text/plain": [
       "'https://www.alpsonline.org/reservation/calendar?hut_id=1&selectDate=11.07.2027&lang=en'"
      ]
     },
     "execution_count": 195,
     "metadata": {},
     "output_type": "execute_result"
    }
   ],
   "source": [
    "\n"
   ]
  },
  {
   "cell_type": "code",
   "execution_count": 178,
   "metadata": {},
   "outputs": [],
   "source": []
  },
  {
   "cell_type": "code",
   "execution_count": 179,
   "metadata": {},
   "outputs": [
    {
     "name": "stdout",
     "output_type": "stream",
     "text": [
      "SAC found\n"
     ]
    }
   ],
   "source": [
    "#check if the string \"SAC\" is present in the string a\n",
    "if \"SAC\" in a:\n",
    "    print(\"SAC found\")\n",
    "else:\n",
    "    print(\"SAC not found\")"
   ]
  },
  {
   "cell_type": "code",
   "execution_count": 176,
   "metadata": {},
   "outputs": [],
   "source": []
  },
  {
   "cell_type": "code",
   "execution_count": null,
   "metadata": {},
   "outputs": [],
   "source": []
  }
 ],
 "metadata": {
  "kernelspec": {
   "display_name": "SAC_Scraper",
   "language": "python",
   "name": "python3"
  },
  "language_info": {
   "codemirror_mode": {
    "name": "ipython",
    "version": 3
   },
   "file_extension": ".py",
   "mimetype": "text/x-python",
   "name": "python",
   "nbconvert_exporter": "python",
   "pygments_lexer": "ipython3",
   "version": "3.8.19"
  }
 },
 "nbformat": 4,
 "nbformat_minor": 2
}
