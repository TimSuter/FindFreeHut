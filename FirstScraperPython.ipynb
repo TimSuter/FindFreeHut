{
 "cells": [
  {
   "cell_type": "code",
   "execution_count": null,
   "metadata": {},
   "outputs": [],
   "source": [
    "\n"
   ]
  },
  {
   "cell_type": "code",
   "execution_count": 1,
   "metadata": {},
   "outputs": [],
   "source": [
    "import requests\n",
    "from bs4 import BeautifulSoup as bs\n",
    "import pandas as pd"
   ]
  },
  {
   "cell_type": "code",
   "execution_count": 2,
   "metadata": {},
   "outputs": [],
   "source": [
    "headers = {\n",
    "    'Accept': 'application/json, text/javascript, */*; q=0.01',\n",
    "    'User-Agent': 'Mozilla/5.0 (X11; Linux x86_64) AppleWebKit/537.36 (KHTML, like Gecko) Chrome/109.0.0.0 Safari/537.36'\n",
    "}\n",
    "\n",
    "s = requests.Session()\n",
    "s.headers.update(headers)\n",
    "\n",
    "\n",
    "#s.get('https://www.alpsonline.org/reservation/calendar?hut_id=27')\n",
    "#r = s.get('https://www.alpsonline.org/reservation/selectDate?date=10.07.2024')\n",
    "#json_list = []\n",
    "#for i, value in r.json().items():\n",
    "#    json_list.append(value[0])\n",
    "#df = pd.DataFrame(json_list)"
   ]
  },
  {
   "cell_type": "code",
   "execution_count": 6,
   "metadata": {},
   "outputs": [
    {
     "name": "stdout",
     "output_type": "stream",
     "text": [
      "    hutid reservationDate  freeRoom  occupation     Service\n",
      "0      27      10.07.2027        53         0.0        ROOM\n",
      "1      27      11.07.2027        53         0.0        ROOM\n",
      "2      27      12.07.2027        53         0.0        ROOM\n",
      "3      27      13.07.2027        53         0.0        ROOM\n",
      "4      27      14.07.2027        53         0.0        ROOM\n",
      "5      27      15.07.2027        53         0.0        ROOM\n",
      "6      27      16.07.2027        53         0.0        ROOM\n",
      "7      27      17.07.2027        53         0.0        ROOM\n",
      "8      27      18.07.2027        53         0.0        ROOM\n",
      "9      27      19.07.2027        53         0.0        ROOM\n",
      "10     27      20.07.2027        53         0.0        ROOM\n",
      "11     27      21.07.2027        53         0.0        ROOM\n",
      "12     27      22.07.2027        53         0.0        ROOM\n",
      "13     27      23.07.2027        53         0.0        ROOM\n",
      "0     515      10.07.2027        10         0.0  UNSERVICED\n",
      "1     515      11.07.2027        10         0.0  UNSERVICED\n",
      "2     515      12.07.2027        10         0.0  UNSERVICED\n",
      "3     515      13.07.2027        10         0.0  UNSERVICED\n",
      "4     515      14.07.2027        10         0.0  UNSERVICED\n",
      "5     515      15.07.2027        10         0.0  UNSERVICED\n",
      "6     515      16.07.2027        10         0.0  UNSERVICED\n",
      "7     515      17.07.2027        10         0.0  UNSERVICED\n",
      "8     515      18.07.2027        10         0.0  UNSERVICED\n",
      "9     515      19.07.2027        10         0.0  UNSERVICED\n",
      "10    515      20.07.2027        10         0.0  UNSERVICED\n",
      "11    515      21.07.2027        10         0.0  UNSERVICED\n",
      "12    515      22.07.2027        10         0.0  UNSERVICED\n",
      "13    515      23.07.2027        10         0.0  UNSERVICED\n"
     ]
    }
   ],
   "source": [
    "hutid = [27, 515]\n",
    "date = '10.07.2027'\n",
    "\n",
    "#loop over all huts, create a dataframe for each hut\n",
    "#initialize dataframes\n",
    "df_list = []\n",
    "\n",
    "for hut in hutid:\n",
    "    r = s.get(f'https://www.alpsonline.org/reservation/calendar?hut_id={hut}')\n",
    "    r = s.get(f'https://www.alpsonline.org/reservation/selectDate?date={date}')\n",
    "    json_list = []\n",
    "    for i, value in r.json().items():\n",
    "        json_list.append(value[0])\n",
    "    df = pd.DataFrame(json_list)\n",
    "    df['hutid'] = hut\n",
    "    df_list.append(df)\n",
    "\n",
    "\n",
    "#reduce dataframes to relevant columns, add hutid and calculate occupation\n",
    "df_red_list = []\n",
    "for df in df_list:\n",
    "    df_red = df[['hutid', 'reservationDate', 'freeRoom']].copy()\n",
    "    df_red['occupation'] = (100 - df_red['freeRoom'].copy() / df['totalRoom'].copy() * 100)\n",
    "    df_red['Service'] = df['bedCategoryType'].copy()\n",
    "    df_red_list.append(df_red)\n",
    "\n",
    "#concatenate dataframes\n",
    "df_con = pd.concat(df_red_list)\n",
    "print(df_con)\n"
   ]
  },
  {
   "cell_type": "code",
   "execution_count": null,
   "metadata": {},
   "outputs": [],
   "source": []
  },
  {
   "cell_type": "code",
   "execution_count": null,
   "metadata": {},
   "outputs": [],
   "source": []
  }
 ],
 "metadata": {
  "kernelspec": {
   "display_name": "SAC_Scraper",
   "language": "python",
   "name": "python3"
  },
  "language_info": {
   "codemirror_mode": {
    "name": "ipython",
    "version": 3
   },
   "file_extension": ".py",
   "mimetype": "text/x-python",
   "name": "python",
   "nbconvert_exporter": "python",
   "pygments_lexer": "ipython3",
   "version": "3.8.19"
  }
 },
 "nbformat": 4,
 "nbformat_minor": 2
}
