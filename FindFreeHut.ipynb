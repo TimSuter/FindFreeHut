{
 "cells": [
  {
   "cell_type": "code",
   "execution_count": null,
   "metadata": {},
   "outputs": [],
   "source": [
    "import requests\n",
    "from bs4 import BeautifulSoup as bs\n",
    "import pandas as pd\n",
    "import time\n",
    "from random import randrange\n",
    "\n",
    "from utils.func import func"
   ]
  },
  {
   "cell_type": "code",
   "execution_count": null,
   "metadata": {},
   "outputs": [],
   "source": [
    "#parameters\n",
    "date = '07.08.2024' #first night of the reservation\n",
    "SACOnly = False #look for all huts, not just SAC huts\n",
    "NumPeople = 2 #number of people in the reservation\n",
    "Nights = 2 #number of nights in the reservation\n"
   ]
  },
  {
   "cell_type": "code",
   "execution_count": null,
   "metadata": {},
   "outputs": [],
   "source": [
    "#look for huts\n",
    "df_freeHuts = func.findBeds(date, NumPeople, Nights, SACOnly)\n",
    "\n",
    "\n",
    "\n",
    "\n",
    "#display results"
   ]
  }
 ],
 "metadata": {
  "language_info": {
   "name": "python"
  }
 },
 "nbformat": 4,
 "nbformat_minor": 2
}
