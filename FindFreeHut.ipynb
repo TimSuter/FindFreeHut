{
 "cells": [
  {
   "cell_type": "code",
   "execution_count": 1,
   "metadata": {},
   "outputs": [],
   "source": [
    "import requests\n",
    "from bs4 import BeautifulSoup as bs\n",
    "import pandas as pd\n",
    "import time\n",
    "from random import randrange\n",
    "\n",
    "import utils.func as func"
   ]
  },
  {
   "cell_type": "code",
   "execution_count": 2,
   "metadata": {},
   "outputs": [],
   "source": [
    "#parameters\n",
    "date = '19.07.2024' #first night of the reservation\n",
    "SACOnly = True #look for all huts, not just SAC huts\n",
    "NumPeople = 2 #number of people in the reservation\n",
    "Nights = 2 #number of nights in the reservation\n"
   ]
  },
  {
   "cell_type": "code",
   "execution_count": 3,
   "metadata": {},
   "outputs": [
    {
     "name": "stdout",
     "output_type": "stream",
     "text": [
      "                                    Hut Name Altitude  Free Beds Capacity  \\\n",
      "0   Capanna da l'Albigna CAS, SAC Hoher Rohn   2336 m         15     82 %   \n",
      "1              Lidernenhütte SAC, SAC Mythen   1727 m         49     44 %   \n",
      "2        Konkordiahütte SAC, SAC Grindelwald   2850 m         87     46 %   \n",
      "3     Chamonna Tuoi CAS, SAC Engiadina Bassa   2250 m         57     12 %   \n",
      "4             Rugghubelhütte SAC, SAC Titlis   2296 m         17     73 %   \n",
      "5        Oberaletschhütte SAC, CAS Chasseral   2640 m         44     24 %   \n",
      "6         Chamanna Jenatsch CAS, SAC Bernina   2652 m         37     38 %   \n",
      "7           Berglihütte SAC, SAC Grindelwald   3299 m         20      0 %   \n",
      "8                 Windegghütte SAC, SAC Bern   1887 m         13     64 %   \n",
      "9             Fergenhütte SAC, SAC Prättigau   2141 m          3     86 %   \n",
      "10            Binntalhütte SAC, SAC Delemont   2265 m         24     50 %   \n",
      "11           Staldenmaadhütte, SAC Kirchberg   1120 m         38      0 %   \n",
      "12              Clubhaus Metsch, SAC Huttwil   1775 m         16      0 %   \n",
      "13           Rifugio Saoseo CAS, SAC Bernina   1985 m         12     60 %   \n",
      "14            ZZZ TEST Monbijouhütte, SAC GS    666 m         10      0 %   \n",
      "15            Schalijochbiwak SAC, SAC Basel   3786 m          8      0 %   \n",
      "16    Baltschiederklause SAC, SAC Blümlisalp   2783 m         19     62 %   \n",
      "17               Zapporthütte SAC, SAC Rätia   2276 m         19     21 %   \n",
      "18              Hollandiahütte SAC, SAC Bern   3238 m         36     35 %   \n",
      "19               Etzlihütte SAC, SAC Thurgau     20 m         51     28 %   \n",
      "20              Rotondohütte SAC, SAC Lägern     25 m         45     31 %   \n",
      "21           Rottalhütte SAC, SAC Interlaken    275 m         26      7 %   \n",
      "22    Silberhornhütte SAC, SAC Lauterbrunnen   2663 m         10      0 %   \n",
      "23     Clubhütte Grubenalp, SAC Sektion Saas   2300 m         14      0 %   \n",
      "24             Balmhornhütte SAC, SAC Altels   1956 m          8     60 %   \n",
      "25            Guggihütte SAC, SAC Interlaken   2791 m         20     17 %   \n",
      "\n",
      "         Service                                   Reservation Link  \n",
      "0   Full-Service  https://www.alpsonline.org/reservation/calenda...  \n",
      "1   Full-Service  https://www.alpsonline.org/reservation/calenda...  \n",
      "2   Full-Service  https://www.alpsonline.org/reservation/calenda...  \n",
      "3   Full-Service  https://www.alpsonline.org/reservation/calenda...  \n",
      "4   Full-Service  https://www.alpsonline.org/reservation/calenda...  \n",
      "5   Full-Service  https://www.alpsonline.org/reservation/calenda...  \n",
      "6   Full-Service  https://www.alpsonline.org/reservation/calenda...  \n",
      "7   Full-Service  https://www.alpsonline.org/reservation/calenda...  \n",
      "8   Full-Service  https://www.alpsonline.org/reservation/calenda...  \n",
      "9   Full-Service  https://www.alpsonline.org/reservation/calenda...  \n",
      "10  Full-Service  https://www.alpsonline.org/reservation/calenda...  \n",
      "11  Full-Service  https://www.alpsonline.org/reservation/calenda...  \n",
      "12  Full-Service  https://www.alpsonline.org/reservation/calenda...  \n",
      "13  Full-Service  https://www.alpsonline.org/reservation/calenda...  \n",
      "14  Full-Service  https://www.alpsonline.org/reservation/calenda...  \n",
      "15  Full-Service  https://www.alpsonline.org/reservation/calenda...  \n",
      "16  Full-Service  https://www.alpsonline.org/reservation/calenda...  \n",
      "17  Full-Service  https://www.alpsonline.org/reservation/calenda...  \n",
      "18  Full-Service  https://www.alpsonline.org/reservation/calenda...  \n",
      "19  Full-Service  https://www.alpsonline.org/reservation/calenda...  \n",
      "20  Full-Service  https://www.alpsonline.org/reservation/calenda...  \n",
      "21  Full-Service  https://www.alpsonline.org/reservation/calenda...  \n",
      "22  Full-Service  https://www.alpsonline.org/reservation/calenda...  \n",
      "23  Full-Service  https://www.alpsonline.org/reservation/calenda...  \n",
      "24  Full-Service  https://www.alpsonline.org/reservation/calenda...  \n",
      "25  Full-Service  https://www.alpsonline.org/reservation/calenda...  \n"
     ]
    }
   ],
   "source": [
    "#look for huts\n",
    "df_freeHuts = func.findBeds(date, NumPeople, Nights, SACOnly)\n",
    "#display results\n",
    "print(df_freeHuts)"
   ]
  }
 ],
 "metadata": {
  "kernelspec": {
   "display_name": "SAC_Scraper",
   "language": "python",
   "name": "python3"
  },
  "language_info": {
   "codemirror_mode": {
    "name": "ipython",
    "version": 3
   },
   "file_extension": ".py",
   "mimetype": "text/x-python",
   "name": "python",
   "nbconvert_exporter": "python",
   "pygments_lexer": "ipython3",
   "version": "3.8.19"
  }
 },
 "nbformat": 4,
 "nbformat_minor": 2
}
